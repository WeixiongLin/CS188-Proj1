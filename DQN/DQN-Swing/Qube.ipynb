{
 "cells": [
  {
   "cell_type": "code",
   "execution_count": 1,
   "metadata": {},
   "outputs": [
    {
     "name": "stdout",
     "output_type": "stream",
     "text": [
      "************************\n",
      "*** model configuration ***\n",
      "load_model: true\n",
      "model_path: storage/exp_1_1.ckpt\n",
      "n_actions: 11\n",
      "n_hidden: 2\n",
      "size_hidden: 64\n",
      "use_cuda: false\n",
      "\n",
      "*** train configuration ***\n",
      "batch_size: 64\n",
      "epsilon_decay: 1000\n",
      "epsilon_final: 0.1\n",
      "epsilon_start: 0.9\n",
      "exp_number: 11\n",
      "fix_epsilon: 0.3\n",
      "gamma: 0.995\n",
      "learning_rate: 0.001\n",
      "max_episode_step: 4000\n",
      "memory_size: 1000000\n",
      "n_episodes: 15000\n",
      "n_update_target: 3\n",
      "random_seed: 1234\n",
      "render: false\n",
      "save_best: true\n",
      "save_model_path: storage/exp_1_1.ckpt\n",
      "use_fix_epsilon: true\n",
      "\n",
      "************************\n"
     ]
    }
   ],
   "source": [
    "from DQN import *\n",
    "import numpy as np\n",
    "import torch\n",
    "\n",
    "config_path = \"config.yml\"\n",
    "print_config(config_path)\n",
    "config = load_config(config_path)\n",
    "training_config = config[\"training_config\"]\n",
    "\n",
    "seed = training_config[\"random_seed\"]\n",
    "n_episodes = training_config[\"n_episodes\"]\n",
    "max_episode_step = training_config[\"max_episode_step\"]\n",
    "n_update_target = training_config[\"n_update_target\"]\n",
    "exp_number = training_config[\"exp_number\"]\n",
    "save_model_path = training_config[\"save_model_path\"]\n",
    "render_flag = training_config[\"render\"]\n",
    "\n",
    "if training_config[\"use_fix_epsilon\"]:\n",
    "    epsilon_by_frame = lambda frame_idx: training_config[\"fix_epsilon\"]\n",
    "else:\n",
    "    epsilon_start = training_config[\"epsilon_start\"]\n",
    "    epsilon_final = training_config[\"epsilon_final\"]\n",
    "    epsilon_decay = training_config[\"epsilon_decay\"]\n",
    "    epsilon_by_frame = lambda frame_idx: epsilon_final + (epsilon_start - epsilon_final) * np.exp(-1. * frame_idx / epsilon_decay)\n",
    "\n",
    "torch.manual_seed(seed)\n",
    "np.random.seed(seed)\n",
    " \n",
    "env_id = \"CartpoleSwingShort-v0\"\n",
    "env = GentlyTerminating(gym.make(env_id))"
   ]
  },
  {
   "cell_type": "code",
   "execution_count": 2,
   "metadata": {},
   "outputs": [],
   "source": [
    "model = torch.load(config[\"model_config\"][\"model_path\"])"
   ]
  },
  {
   "cell_type": "code",
   "execution_count": 7,
   "metadata": {},
   "outputs": [
    {
     "data": {
      "text/plain": [
       "MLP(\n",
       "  (fc_in): Linear(in_features=5, out_features=64, bias=True)\n",
       "  (relu): ReLU()\n",
       "  (fc_list): ModuleList(\n",
       "    (0): Linear(in_features=64, out_features=64, bias=True)\n",
       "  )\n",
       "  (fc_out): Linear(in_features=64, out_features=7, bias=True)\n",
       ")"
      ]
     },
     "execution_count": 7,
     "metadata": {},
     "output_type": "execute_result"
    }
   ],
   "source": [
    "model.cpu()"
   ]
  }
 ],
 "metadata": {
  "kernelspec": {
   "display_name": "Python 3",
   "language": "python",
   "name": "python3"
  },
  "language_info": {
   "codemirror_mode": {
    "name": "ipython",
    "version": 3
   },
   "file_extension": ".py",
   "mimetype": "text/x-python",
   "name": "python",
   "nbconvert_exporter": "python",
   "pygments_lexer": "ipython3",
   "version": "3.6.2"
  }
 },
 "nbformat": 4,
 "nbformat_minor": 2
}
