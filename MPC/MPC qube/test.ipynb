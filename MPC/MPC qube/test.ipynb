{
 "cells": [
  {
   "cell_type": "code",
   "execution_count": 26,
   "metadata": {},
   "outputs": [
    {
     "name": "stdout",
     "output_type": "stream",
     "text": [
      "************************\n",
      "*** model configuration ***\n",
      "load_model: false\n",
      "model_path: storage/exp_1.ckpt\n",
      "n_actions: 1\n",
      "n_hidden: 1\n",
      "n_states: 6\n",
      "size_hidden: 256\n",
      "use_cuda: true\n",
      "\n",
      "*** train configuration ***\n",
      "batch_size: 70\n",
      "exp_number: 1\n",
      "learning_rate: 0.001\n",
      "n_epochs: 50\n",
      "save_loss_fig: true\n",
      "save_model_flag: true\n",
      "save_model_path: storage/exp_1.ckpt\n",
      "\n",
      "************************\n"
     ]
    }
   ],
   "source": [
    "# coding: utf-8\n",
    "import gym\n",
    "import torch.utils.data as data\n",
    "from dynamics import *\n",
    "from controller import *\n",
    "from utils import *\n",
    "from quanser_robots.common import GentlyTerminating\n",
    "\n",
    "# datasets:  numpy array, size:[sample number, input dimension]\n",
    "# labels:  numpy array, size:[sample number, output dimension]\n",
    "\n",
    "def mpc_iteration_hive(env, model,train_datasets, train_labels, sample_num = 500,\n",
    "                       horizon = 10, numb_bees = 10, max_itrs = 10, gamma = 0.85,\n",
    "                       model_name = \"emmm\"):\n",
    "    learning_rate = 3e-5\n",
    "    batch_size = 20\n",
    "    num_epochs= 50\n",
    "    weight_decay = 1e-4\n",
    "\n",
    "    train_datasets_new, train_labels_new = mpc_dataset_hive(env, model, sample_num, horizon, numb_bees, max_itrs, gamma)\n",
    "    train_datasets = np.concatenate( (train_datasets,train_datasets_new) )\n",
    "    train_labels = np.concatenate( (train_labels,train_labels_new) )\n",
    "\n",
    "    train_datasets_norm, train_labels_norm = model.normlize_datasets(train_datasets,train_labels)\n",
    "    train(model,train_datasets_norm,train_labels_norm,\n",
    "          learning_rate,batch_size, num_epochs,weight_decay,model_name)\n",
    "    return train_datasets, train_labels\n",
    "\n",
    "config_path = \"config.yml\"\n",
    "print_config(config_path)\n",
    "config = load_config(config_path)\n",
    "\n",
    "env_id =\"Qube-v0\" # \"CartPole-v0\"\n",
    "env = GentlyTerminating(gym.make(env_id))\n"
   ]
  },
  {
   "cell_type": "code",
   "execution_count": 32,
   "metadata": {},
   "outputs": [],
   "source": [
    "state = env.reset()\n",
    "action = env.action_space.sample()"
   ]
  },
  {
   "cell_type": "code",
   "execution_count": 35,
   "metadata": {},
   "outputs": [
    {
     "data": {
      "text/plain": [
       "array([ 0.488135], dtype=float32)"
      ]
     },
     "execution_count": 35,
     "metadata": {},
     "output_type": "execute_result"
    }
   ],
   "source": [
    "action"
   ]
  },
  {
   "cell_type": "code",
   "execution_count": 37,
   "metadata": {},
   "outputs": [],
   "source": [
    "datasets = {\"data\":state, \"label\":action}"
   ]
  },
  {
   "cell_type": "code",
   "execution_count": 39,
   "metadata": {},
   "outputs": [
    {
     "data": {
      "text/plain": [
       "array([ 0.999919,  0.012693,  0.999998,  0.001788,  0.238773,  0.025506], dtype=float32)"
      ]
     },
     "execution_count": 39,
     "metadata": {},
     "output_type": "execute_result"
    }
   ],
   "source": [
    "datasets[\"data\"]"
   ]
  }
 ],
 "metadata": {
  "kernelspec": {
   "display_name": "Python 3",
   "language": "python",
   "name": "python3"
  },
  "language_info": {
   "codemirror_mode": {
    "name": "ipython",
    "version": 3
   },
   "file_extension": ".py",
   "mimetype": "text/x-python",
   "name": "python",
   "nbconvert_exporter": "python",
   "pygments_lexer": "ipython3",
   "version": "3.6.2"
  }
 },
 "nbformat": 4,
 "nbformat_minor": 2
}
