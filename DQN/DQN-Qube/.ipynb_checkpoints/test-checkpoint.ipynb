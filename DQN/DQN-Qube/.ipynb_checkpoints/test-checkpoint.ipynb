{
 "cells": [
  {
   "cell_type": "code",
   "execution_count": 1,
   "metadata": {},
   "outputs": [],
   "source": [
    "# coding: utf-8\n",
    "\n",
    "import math\n",
    "from DQN import *\n",
    "import numpy as np\n",
    "import torch\n",
    "%matplotlib inline\n"
   ]
  },
  {
   "cell_type": "code",
   "execution_count": 2,
   "metadata": {},
   "outputs": [],
   "source": [
    "training_config = load_config(\"config.yml\")[\"training_config\"]\n",
    "\n",
    "seed = training_config[\"random_seed\"]\n",
    "n_episodes = training_config[\"n_episodes\"]\n",
    "max_episode_step = training_config[\"max_episode_step\"]\n",
    "torch.manual_seed(seed)\n",
    "np.random.seed(seed)\n",
    "\n",
    "env_id =\"Qube-v0\" # \"CartPole-v0\"\n",
    "env = GentlyTerminating(gym.make(env_id))\n",
    "\n",
    "\n"
   ]
  },
  {
   "cell_type": "code",
   "execution_count": 3,
   "metadata": {},
   "outputs": [
    {
     "name": "stdout",
     "output_type": "stream",
     "text": [
      "************************\n",
      "*** model configuration: ***\n",
      "load_model: true\n",
      "model_path: storage/test.ckpt\n",
      "n_actions: 11\n",
      "n_hidden: 1\n",
      "size_hidden: 256\n",
      "use_cuda: true\n",
      "\n",
      "*** training configuration: ***\n",
      "batch_size: 64\n",
      "gamma: 0.99\n",
      "learning_rate: 0.0003\n",
      "max_episode_step: 500\n",
      "memory_size: 100000\n",
      "n_episodes: 1000\n",
      "random_seed: 1234\n",
      "\n",
      "************************\n"
     ]
    }
   ],
   "source": [
    "print_config()"
   ]
  },
  {
   "cell_type": "code",
   "execution_count": 6,
   "metadata": {},
   "outputs": [
    {
     "data": {
      "text/plain": [
       "[<matplotlib.lines.Line2D at 0x7f1861baecf8>]"
      ]
     },
     "execution_count": 6,
     "metadata": {},
     "output_type": "execute_result"
    },
    {
     "data": {
      "image/png": "[encoded data removed]",
      "text/plain": [
       "<Figure size 432x288 with 1 Axes>"
      ]
     },
     "metadata": {},
     "output_type": "display_data"
    }
   ],
   "source": [
    "epsilon_start = 0.9\n",
    "epsilon_final = 0.02\n",
    "epsilon_decay = 500\n",
    "\n",
    "epsilon_by_frame = lambda frame_idx: epsilon_final +(epsilon_start - epsilon_final) * np.exp(-1. * frame_idx / epsilon_decay)\n",
    "plt.plot([epsilon_by_frame(i) for i in range(10000)])"
   ]
  },
  {
   "cell_type": "code",
   "execution_count": null,
   "metadata": {},
   "outputs": [],
   "source": [
    "\n",
    "\n",
    "policy = Policy(env)\n",
    "losses = []\n",
    "all_rewards = []\n",
    "avg_rewards = []\n",
    "\n",
    "for i_episode in range(n_episodes):\n",
    "    episode_reward = 0\n",
    "    state = env.reset()\n",
    "    state[4:6]/=20\n",
    "\n",
    "    for step in range(max_episode_step):\n",
    "        env.render()\n",
    "        epsilon = 0.3 #epsilon_by_frame(frame_idx)\n",
    "\n",
    "        action = policy.act(state, epsilon)\n",
    "\n",
    "        f_action = 5*(action-(policy.n_actions-1)/2)/((policy.n_actions-1)/2)\n",
    "        next_state, reward, done, _ = env.step(f_action)\n",
    "\n",
    "        reward = 100*(reward-0.005)\n",
    "        next_state[4:6]/=20\n",
    "\n",
    "        policy.replay_buffer.push(state, action[0], reward, next_state, done)\n",
    "\n",
    "        state = next_state\n",
    "        episode_reward += reward\n",
    "\n",
    "        if done:\n",
    "            break\n",
    "\n",
    "        if len(policy.replay_buffer) > policy.batch_size:\n",
    "            loss = policy.train()\n",
    "            losses.append(loss.item())\n",
    "\n",
    "    all_rewards.append(episode_reward)\n",
    "    avg_rewards.append(np.mean(all_rewards[-10:]))\n",
    "    episode_reward = 0\n",
    "    if i_episode % 1 == 0:\n",
    "        save_fig(i_episode, all_rewards,avg_rewards, losses)\n",
    "\n",
    "    if i_episode % 2 == 0:\n",
    "        policy.update_target()\n",
    "\n",
    "    policy.save_model(\"storage/test.ckpt\")\n",
    "\n",
    "env.close()\n"
   ]
  }
 ],
 "metadata": {
  "kernelspec": {
   "display_name": "Python 3",
   "language": "python",
   "name": "python3"
  },
  "language_info": {
   "codemirror_mode": {
    "name": "ipython",
    "version": 3
   },
   "file_extension": ".py",
   "mimetype": "text/x-python",
   "name": "python",
   "nbconvert_exporter": "python",
   "pygments_lexer": "ipython3",
   "version": "3.6.2"
  }
 },
 "nbformat": 4,
 "nbformat_minor": 2
}
