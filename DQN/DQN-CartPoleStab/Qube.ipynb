{
 "cells": [
  {
   "cell_type": "code",
   "execution_count": 1,
   "metadata": {},
   "outputs": [
    {
     "name": "stdout",
     "output_type": "stream",
     "text": [
      "************************\n",
      "*** model configuration ***\n",
      "load_model: false\n",
      "model_path: storage/exp_1.ckpt\n",
      "n_actions: 7\n",
      "n_hidden: 1\n",
      "size_hidden: 256\n",
      "use_cuda: true\n",
      "\n",
      "*** train configuration ***\n",
      "batch_size: 64\n",
      "epsilon_decay: 300\n",
      "epsilon_final: 0.2\n",
      "epsilon_start: 0.9\n",
      "exp_number: 1\n",
      "fix_epsilon: 0.3\n",
      "gamma: 0.98\n",
      "learning_rate: 0.001\n",
      "max_episode_step: 4000\n",
      "memory_size: 1000000\n",
      "n_episodes: 20000\n",
      "n_update_target: 2\n",
      "random_seed: 1234\n",
      "render: false\n",
      "save_best: false\n",
      "save_model_path: storage/exp_1.ckpt\n",
      "use_fix_epsilon: false\n",
      "\n",
      "************************\n"
     ]
    }
   ],
   "source": [
    "from DQN import *\n",
    "import numpy as np\n",
    "import torch\n",
    "\n",
    "config_path = \"config.yml\"\n",
    "print_config(config_path)\n",
    "config = load_config(config_path)\n",
    "training_config = config[\"training_config\"]\n",
    "\n",
    "seed = training_config[\"random_seed\"]\n",
    "n_episodes = training_config[\"n_episodes\"]\n",
    "max_episode_step = training_config[\"max_episode_step\"]\n",
    "n_update_target = training_config[\"n_update_target\"]\n",
    "exp_number = training_config[\"exp_number\"]\n",
    "save_model_path = training_config[\"save_model_path\"]\n",
    "render_flag = training_config[\"render\"]\n",
    "\n",
    "if training_config[\"use_fix_epsilon\"]:\n",
    "    epsilon_by_frame = lambda frame_idx: training_config[\"fix_epsilon\"]\n",
    "else:\n",
    "    epsilon_start = training_config[\"epsilon_start\"]\n",
    "    epsilon_final = training_config[\"epsilon_final\"]\n",
    "    epsilon_decay = training_config[\"epsilon_decay\"]\n",
    "    epsilon_by_frame = lambda frame_idx: epsilon_final + (epsilon_start - epsilon_final) * np.exp(-1. * frame_idx / epsilon_decay)\n",
    "\n",
    "torch.manual_seed(seed)\n",
    "np.random.seed(seed)\n",
    "\n",
    "env_id = \"CartpoleStabShort-v0\"\n",
    "env = GentlyTerminating(gym.make(env_id))"
   ]
  },
  {
   "cell_type": "code",
   "execution_count": 2,
   "metadata": {},
   "outputs": [
    {
     "name": "stdout",
     "output_type": "stream",
     "text": [
      "state space shape:  (5,)\n",
      "state space lower bound:  [-0.407 -1.    -1.      -inf   -inf]\n",
      "state space upper bound:  [ 0.407  1.     1.       inf    inf]\n",
      "action space shape:  (1,)\n",
      "action space lower bound:  [-24.]\n",
      "action space upper bound:  [ 24.]\n",
      "reward range:  (1.9689124217106446, 2.0)\n",
      "Randomly sample actions for 100 episodes, with maximum 10000 steps per episodes\n",
      " average reward per episode: 221.126390043, std: 118.186116811 \n",
      " average steps per episode:  110.98\n",
      " average reward per step:  1.99248864699\n"
     ]
    }
   ],
   "source": [
    "anylize_env(env,max_episode_step=10000)"
   ]
  },
  {
   "cell_type": "code",
   "execution_count": 4,
   "metadata": {},
   "outputs": [
    {
     "data": {
      "text/plain": [
       "array([-inf, -inf], dtype=float32)"
      ]
     },
     "execution_count": 4,
     "metadata": {},
     "output_type": "execute_result"
    }
   ],
   "source": [
    "env.observation_space.low[3:5]"
   ]
  }
 ],
 "metadata": {
  "kernelspec": {
   "display_name": "Python 3",
   "language": "python",
   "name": "python3"
  },
  "language_info": {
   "codemirror_mode": {
    "name": "ipython",
    "version": 3
   },
   "file_extension": ".py",
   "mimetype": "text/x-python",
   "name": "python",
   "nbconvert_exporter": "python",
   "pygments_lexer": "ipython3",
   "version": "3.6.2"
  }
 },
 "nbformat": 4,
 "nbformat_minor": 2
}
