{
 "cells": [
  {
   "cell_type": "code",
   "execution_count": 9,
   "metadata": {},
   "outputs": [
    {
     "name": "stdout",
     "output_type": "stream",
     "text": [
      "************************\n",
      "*** model configuration ***\n",
      "load_model: false\n",
      "model_path: storage/epsilon_0.3.ckpt\n",
      "n_actions: 9\n",
      "n_hidden: 1\n",
      "size_hidden: 256\n",
      "use_cuda: true\n",
      "\n",
      "*** train configuration ***\n",
      "batch_size: 64\n",
      "epsilon_decay: 1000\n",
      "epsilon_final: 0.1\n",
      "epsilon_start: 0.9\n",
      "exp_number: 1\n",
      "fix_epsilon: 0.3\n",
      "gamma: 0.99\n",
      "learning_rate: 0.001\n",
      "max_episode_step: 1000\n",
      "memory_size: 100000\n",
      "n_episodes: 15000\n",
      "n_update_target: 4\n",
      "random_seed: 1234\n",
      "render: false\n",
      "save_model_path: storage/epsilon_decay_1000.ckpt\n",
      "use_fix_epsilon: false\n",
      "\n",
      "************************\n"
     ]
    }
   ],
   "source": [
    "from DQN import *\n",
    "import numpy as np\n",
    "import torch\n",
    "\n",
    "config_path = \"config.yml\"\n",
    "print_config(config_path)\n",
    "config = load_config(config_path)\n",
    "training_config = config[\"training_config\"]\n",
    "\n",
    "seed = training_config[\"random_seed\"]\n",
    "n_episodes = training_config[\"n_episodes\"]\n",
    "max_episode_step = training_config[\"max_episode_step\"]\n",
    "n_update_target = training_config[\"n_update_target\"]\n",
    "exp_number = training_config[\"exp_number\"]\n",
    "save_model_path = training_config[\"save_model_path\"]\n",
    "render_flag = training_config[\"render\"]\n",
    "\n",
    "if training_config[\"use_fix_epsilon\"]:\n",
    "    epsilon_by_frame = lambda frame_idx: training_config[\"fix_epsilon\"]\n",
    "else:\n",
    "    epsilon_start = training_config[\"epsilon_start\"]\n",
    "    epsilon_final = training_config[\"epsilon_final\"]\n",
    "    epsilon_decay = training_config[\"epsilon_decay\"]\n",
    "    epsilon_by_frame = lambda frame_idx: epsilon_final + (epsilon_start - epsilon_final) * np.exp(-1. * frame_idx / epsilon_decay)\n",
    "\n",
    "torch.manual_seed(seed)\n",
    "np.random.seed(seed)\n",
    " \n",
    "env_id = \"DoublePendulum-v0\"\n",
    "env = GentlyTerminating(gym.make(env_id))"
   ]
  },
  {
   "cell_type": "code",
   "execution_count": 12,
   "metadata": {},
   "outputs": [
    {
     "name": "stdout",
     "output_type": "stream",
     "text": [
      "state space shape:  (5,)\n",
      "state space lower bound:  [-0.407 -1.    -1.      -inf   -inf]\n",
      "state space upper bound:  [ 0.407  1.     1.       inf    inf]\n",
      "action space shape:  (1,)\n",
      "action space lower bound:  [-24.]\n",
      "action space upper bound:  [ 24.]\n",
      "reward range:  (0.0, 2.0)\n",
      "Randomly sample actions for 100 episodes, with maximum 5000 steps per episodes\n",
      " average reward per episode: 666.022626102, std: 599.654094613 \n",
      " average steps per episode:  4364.79\n",
      " average reward per step:  0.152589844208\n"
     ]
    }
   ],
   "source": [
    "anylize_env(env,max_episode_step=5000)"
   ]
  }
 ],
 "metadata": {
  "kernelspec": {
   "display_name": "Python 3",
   "language": "python",
   "name": "python3"
  },
  "language_info": {
   "codemirror_mode": {
    "name": "ipython",
    "version": 3
   },
   "file_extension": ".py",
   "mimetype": "text/x-python",
   "name": "python",
   "nbconvert_exporter": "python",
   "pygments_lexer": "ipython3",
   "version": "3.6.2"
  }
 },
 "nbformat": 4,
 "nbformat_minor": 2
}
