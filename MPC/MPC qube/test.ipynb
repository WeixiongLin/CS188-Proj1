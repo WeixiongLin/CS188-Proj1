{
 "cells": [
  {
   "cell_type": "code",
   "execution_count": 1,
   "metadata": {},
   "outputs": [
    {
     "name": "stdout",
     "output_type": "stream",
     "text": [
      "************************\n",
      "*** model configuration ***\n",
      "load_model: false\n",
      "model_path: storage/exp_1.ckpt\n",
      "n_actions: 1\n",
      "n_hidden: 1\n",
      "n_states: 6\n",
      "size_hidden: 256\n",
      "use_cuda: true\n",
      "\n",
      "*** train configuration ***\n",
      "batch_size: 70\n",
      "exp_number: 1\n",
      "learning_rate: 0.001\n",
      "n_epochs: 50\n",
      "save_loss_fig: true\n",
      "save_loss_fig_frequency: 30\n",
      "save_model_flag: true\n",
      "save_model_path: storage/exp_1.ckpt\n",
      "\n",
      "************************\n"
     ]
    }
   ],
   "source": [
    "# coding: utf-8\n",
    "import gym\n",
    "import torch.utils.data as data\n",
    "from dynamics import *\n",
    "from controller import *\n",
    "from utils import *\n",
    "from quanser_robots.common import GentlyTerminating\n",
    "\n",
    "# datasets:  numpy array, size:[sample number, input dimension]\n",
    "# labels:  numpy array, size:[sample number, output dimension]\n",
    "\n",
    "config_path = \"config.yml\"\n",
    "print_config(config_path)\n",
    "config = load_config(config_path)\n",
    "\n",
    "env_id =\"Qube-v0\" # \"CartPole-v0\"\n",
    "env = GentlyTerminating(gym.make(env_id))\n"
   ]
  },
  {
   "cell_type": "code",
   "execution_count": null,
   "metadata": {
    "collapsed": true
   },
   "outputs": [],
   "source": []
  },
  {
   "cell_type": "code",
   "execution_count": 2,
   "metadata": {},
   "outputs": [
    {
     "name": "stdout",
     "output_type": "stream",
     "text": [
      "Collect random dataset shape:  (951, 7)\n"
     ]
    },
    {
     "name": "stderr",
     "output_type": "stream",
     "text": [
      "/home/xinye/projects/rl/RL-project/MPC/MPC qube/dynamics.py:187: FutureWarning: comparison to `None` will result in an elementwise object comparison in the future.\n",
      "  if datasets == None:\n",
      "/home/xinye/projects/rl/RL-project/MPC/MPC qube/dynamics.py:191: FutureWarning: comparison to `None` will result in an elementwise object comparison in the future.\n",
      "  if labels == None:\n"
     ]
    }
   ],
   "source": [
    "dynamic_model = DynamicModel(config)\n",
    "\n",
    "dataset_factory = DatasetFactory(env,config)\n",
    "dataset_factory.collect_random_dataset()\n",
    "\n",
    "train_datasets_norm, train_labels_norm = dynamic_model.normlize_datasets(dataset_factory.random_dataset[\"data\"],\n",
    "                                                                         dataset_factory.random_dataset[\"label\"])\n"
   ]
  },
  {
   "cell_type": "code",
   "execution_count": 3,
   "metadata": {},
   "outputs": [
    {
     "name": "stdout",
     "output_type": "stream",
     "text": [
      "Total training step per epoch [14]\n"
     ]
    },
    {
     "name": "stderr",
     "output_type": "stream",
     "text": [
      "/home/xinye/anaconda2/envs/pytorch/lib/python3.6/site-packages/torch/nn/_reduction.py:16: UserWarning: reduction='elementwise_mean' is deprecated, please use reduction='mean' instead.\n",
      "  warnings.warn(\"reduction='elementwise_mean' is deprecated, please use reduction='mean' instead.\")\n"
     ]
    },
    {
     "name": "stdout",
     "output_type": "stream",
     "text": [
      "Epoch [30/50], Loss: 0.45359700\n"
     ]
    },
    {
     "data": {
      "text/plain": [
       "[0.95957403523581364,\n",
       " 0.69611769914627075,\n",
       " 0.59186799611364094,\n",
       " 0.55097734076636173,\n",
       " 0.536141791513988,\n",
       " 0.52623537395681652,\n",
       " 0.52957870491913384,\n",
       " 0.52431513369083405,\n",
       " 0.52521657305104397,\n",
       " 0.52337946849209926,\n",
       " 0.51842501546655384,\n",
       " 0.51581865974834984,\n",
       " 0.52285975004945484,\n",
       " 0.5177939129727227,\n",
       " 0.52221991334642681,\n",
       " 0.51507708430290222,\n",
       " 0.51289452612400055,\n",
       " 0.50840265410287044,\n",
       " 0.51096228616578243,\n",
       " 0.49901549730982098,\n",
       " 0.50068067014217377,\n",
       " 0.49713297188282013,\n",
       " 0.48889744920389994,\n",
       " 0.49137013086250853,\n",
       " 0.48415613813059671,\n",
       " 0.47079813054629732,\n",
       " 0.47057926867689404,\n",
       " 0.46660811560494558,\n",
       " 0.46062886289187838,\n",
       " 0.45359699640955242,\n",
       " 0.44748150876590181,\n",
       " 0.43519412832600729,\n",
       " 0.4334685355424881,\n",
       " 0.42673175462654661,\n",
       " 0.41299640067986082,\n",
       " 0.40716907382011414,\n",
       " 0.39726206873144421,\n",
       " 0.39266331919601988,\n",
       " 0.37559998780488968,\n",
       " 0.37108723819255829,\n",
       " 0.36052938444273813,\n",
       " 0.35423309888158527,\n",
       " 0.34352820579494747,\n",
       " 0.33201276510953903,\n",
       " 0.3238756667290415,\n",
       " 0.31471955669777735,\n",
       " 0.30579520549092976,\n",
       " 0.29756629041263033,\n",
       " 0.28675238575254169,\n",
       " 0.27645949380738394]"
      ]
     },
     "execution_count": 3,
     "metadata": {},
     "output_type": "execute_result"
    }
   ],
   "source": [
    "dynamic_model.train(train_datasets_norm,train_labels_norm)"
   ]
  },
  {
   "cell_type": "code",
   "execution_count": 15,
   "metadata": {},
   "outputs": [
    {
     "name": "stderr",
     "output_type": "stream",
     "text": [
      "/home/xinye/projects/rl/RL-project/MPC/MPC qube/dynamics.py:55: UserWarning: volatile was removed and now has no effect. Use `with torch.no_grad():` instead.\n",
      "  self.Variable = lambda *args, **kwargs: autograd.Variable(*args, **kwargs).cuda()\n"
     ]
    },
    {
     "data": {
      "text/plain": [
       "array([[-0.046298,  0.078314, -0.056775, -0.110759,  3.766605, -9.145421]], dtype=float32)"
      ]
     },
     "execution_count": 15,
     "metadata": {},
     "output_type": "execute_result"
    }
   ],
   "source": [
    "x = np.arange(7)\n",
    "dynamic_model.predict(x)"
   ]
  },
  {
   "cell_type": "code",
   "execution_count": 12,
   "metadata": {},
   "outputs": [
    {
     "name": "stderr",
     "output_type": "stream",
     "text": [
      "/home/xinye/projects/rl/RL-project/MPC/MPC qube/dynamics.py:55: UserWarning: volatile was removed and now has no effect. Use `with torch.no_grad():` instead.\n",
      "  self.Variable = lambda *args, **kwargs: autograd.Variable(*args, **kwargs).cuda()\n"
     ]
    }
   ],
   "source": [
    "y = dynamic_model.predict(x[0])"
   ]
  },
  {
   "cell_type": "code",
   "execution_count": 17,
   "metadata": {},
   "outputs": [
    {
     "data": {
      "text/plain": [
       "(1, 6)"
      ]
     },
     "execution_count": 17,
     "metadata": {},
     "output_type": "execute_result"
    }
   ],
   "source": [
    "y"
   ]
  },
  {
   "cell_type": "code",
   "execution_count": null,
   "metadata": {},
   "outputs": [],
   "source": [
    "datasets = {\"data\":state, \"label\":action}"
   ]
  },
  {
   "cell_type": "code",
   "execution_count": null,
   "metadata": {},
   "outputs": [],
   "source": [
    "datasets[\"data\"]"
   ]
  },
  {
   "cell_type": "code",
   "execution_count": null,
   "metadata": {},
   "outputs": [],
   "source": [
    "xx = [[1,2,3],[4,5,6],[7,8,9],[10,11,12]]\n",
    "y= [[1],[4],[7],[10]]\n",
    "xx = np.array(xx)\n",
    "y = np.array(y)"
   ]
  },
  {
   "cell_type": "code",
   "execution_count": null,
   "metadata": {},
   "outputs": [],
   "source": [
    "data = np.concatenate((xx,xx),axis = 1)\n",
    "data"
   ]
  },
  {
   "cell_type": "code",
   "execution_count": null,
   "metadata": {},
   "outputs": [],
   "source": [
    "np.random.shuffle(data)\n",
    "data"
   ]
  }
 ],
 "metadata": {
  "kernelspec": {
   "display_name": "Python 3",
   "language": "python",
   "name": "python3"
  },
  "language_info": {
   "codemirror_mode": {
    "name": "ipython",
    "version": 3
   },
   "file_extension": ".py",
   "mimetype": "text/x-python",
   "name": "python",
   "nbconvert_exporter": "python",
   "pygments_lexer": "ipython3",
   "version": "3.6.2"
  }
 },
 "nbformat": 4,
 "nbformat_minor": 2
}
